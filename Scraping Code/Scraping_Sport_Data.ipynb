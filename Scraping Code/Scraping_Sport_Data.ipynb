{
  "cells": [
    {
      "cell_type": "code",
      "execution_count": null,
      "metadata": {
        "id": "sIaqrRSqiINF"
      },
      "outputs": [],
      "source": [
        "from tweepy.streaming import StreamListener\n",
        "from tweepy import OAuthHandler\n",
        "from tweepy import Stream\n",
        "import re\n",
        "import json\n",
        "import pandas as pd "
      ]
    },
    {
      "cell_type": "code",
      "execution_count": null,
      "metadata": {
        "id": "Gu9AyYwZiL8V"
      },
      "outputs": [],
      "source": [
        "# Enter Twitter API Keys\n",
        "consumer_key='***'\n",
        "consumer_secret='***'\n",
        "access_token='***'\n",
        "access_secret='***'\n"
      ]
    },
    {
      "cell_type": "code",
      "execution_count": null,
      "metadata": {
        "id": "XMzFgcMVOmdU"
      },
      "outputs": [],
      "source": [
        "# Create tracklist with the words that will be searched for\n",
        "tracklist = ['الرياضة','kooora','كرة القدم','beinsport','soccer','sport','الفيفا']\n",
        "# Initialize Global variable\n",
        "tweet_count = 0\n",
        "# Input number of tweets to be downloaded\n",
        "n_tweets =500\n",
        "\n",
        "# Create the class that will handle the tweet stream\n",
        "class StdOutListener(StreamListener):\n",
        "      \n",
        "    def on_data(self, data):\n",
        "        global tweet_count\n",
        "        global n_tweets\n",
        "        global stream\n",
        "        all_data=[]\n",
        "        \n",
        "             \n",
        "        if tweet_count < n_tweets:\n",
        "            #print(data)\n",
        "            #all_data = json.loads(data)\n",
        "            with open('arabic_sportif_tweets.json', 'a') as f:\n",
        "                f.write(data)\n",
        "           \n",
        "            \n",
        "             \n",
        "            \n",
        "            \n",
        "            tweet_count += 1\n",
        "            \n",
        "        \n",
        "   \n",
        "            \n",
        "            return True\n",
        "        else:\n",
        "            stream.disconnect()\n",
        "    \n",
        "\n",
        "    def on_error(self, status):\n",
        "        print(status)\n",
        "\n",
        "\n"
      ]
    },
    {
      "cell_type": "code",
      "execution_count": null,
      "metadata": {
        "colab": {
          "background_save": true
        },
        "id": "vOfhl9inyeME"
      },
      "outputs": [],
      "source": [
        "# Handles Twitter authetification and the connection to Twitter Streaming API\n",
        "l = StdOutListener()\n",
        "auth = OAuthHandler(consumer_key, consumer_secret)\n",
        "auth.set_access_token(access_token, access_secret)\n",
        "stream = Stream(auth, l)\n",
        "stream.filter(track=tracklist,languages=[\"ar\"])\n",
        "\n"
      ]
    },
    {
      "cell_type": "code",
      "execution_count": null,
      "metadata": {
        "id": "u5u89E5wOmb5"
      },
      "outputs": [],
      "source": [
        "import json\n",
        "import pandas as pd\n",
        "tweets_data_path = \"arabic_sportif_tweets.json\"  \n",
        "tweets_data = []  \n",
        "tweets_file = open(tweets_data_path, \"r\")  \n",
        "for line in tweets_file:  \n",
        "    try:  \n",
        "        tweet = json.loads(line)  \n",
        "        tweets_data.append(tweet)  \n",
        "    except:  \n",
        "        continue\n",
        "tweets_sport = pd.DataFrame()\n",
        "tweets_sport['text'] = list(map(lambda tweet: tweet['text'], tweets_data))\n",
        "tweets_sport['Username'] = list(map(lambda tweet: tweet['user']['screen_name'], tweets_data))\n",
        "tweets_sport['location'] = list(map(lambda tweet: tweet['user']['location'], tweets_data))\n",
        "tweets_sport['Timestamp'] = list(map(lambda tweet: tweet['created_at'], tweets_data))\n",
        "tweets_sport['followers'] = list(map(lambda tweet: tweet['user']['followers_count'], tweets_data))\n",
        "tweets_sport['label']=0\n",
        "tweets_sport['categorie']='sport'\n",
        "\n",
        "\n",
        "tweets_sport.head(5)"
      ]
    },
    {
      "cell_type": "code",
      "execution_count": null,
      "metadata": {
        "id": "eVOIX0nwOmXe"
      },
      "outputs": [],
      "source": [
        "tweets_sport "
      ]
    },
    {
      "cell_type": "code",
      "execution_count": null,
      "metadata": {
        "id": "RAg_fQpYCfju"
      },
      "outputs": [],
      "source": [
        "tweets_sport.to_excel('tweets_sport.xlsx')"
      ]
    },
    {
      "cell_type": "code",
      "execution_count": null,
      "metadata": {
        "id": "6lT2EfEGOmWU"
      },
      "outputs": [],
      "source": [
        ""
      ]
    },
    {
      "cell_type": "code",
      "execution_count": null,
      "metadata": {
        "id": "BTu9uq4WOmSH"
      },
      "outputs": [],
      "source": [
        ""
      ]
    },
    {
      "cell_type": "code",
      "execution_count": null,
      "metadata": {
        "id": "yze0yOzQOmQw"
      },
      "outputs": [],
      "source": [
        ""
      ]
    },
    {
      "cell_type": "code",
      "execution_count": null,
      "metadata": {
        "id": "ZgSh-XKsiMJC"
      },
      "outputs": [],
      "source": [
        ""
      ]
    },
    {
      "cell_type": "code",
      "execution_count": null,
      "metadata": {
        "id": "i3Mzz8e_iMMk"
      },
      "outputs": [],
      "source": [
        ""
      ]
    },
    {
      "cell_type": "code",
      "execution_count": null,
      "metadata": {
        "id": "zTkWEVtEiMOw"
      },
      "outputs": [],
      "source": [
        ""
      ]
    },
    {
      "cell_type": "code",
      "execution_count": null,
      "metadata": {
        "id": "e3wWdzEZiMQ7"
      },
      "outputs": [],
      "source": [
        ""
      ]
    },
    {
      "cell_type": "code",
      "execution_count": null,
      "metadata": {
        "id": "SrCunB8uiMTh"
      },
      "outputs": [],
      "source": [
        ""
      ]
    }
  ],
  "metadata": {
    "colab": {
      "name": "Scraping_Sport_Data.ipynb",
      "provenance": []
    },
    "kernelspec": {
      "display_name": "Python 3",
      "name": "python3"
    },
    "language_info": {
      "name": "python"
    }
  },
  "nbformat": 4,
  "nbformat_minor": 0
}